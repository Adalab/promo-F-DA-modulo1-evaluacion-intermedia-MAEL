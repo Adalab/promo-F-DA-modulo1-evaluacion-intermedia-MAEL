{
 "cells": [
  {
   "cell_type": "markdown",
   "metadata": {},
   "source": [
    "EVALUACIÓN INTERMEDIA.\n",
    "Parte 1: Strings\n",
    "\n",
    "Dada una cadena de texto, contar cuántas veces aparece una letra específica en ella. Usa un input para que el usuario elija la letra a buscar.\n",
    "cadena = \"Python es un lenguaje de programación muy popular\""
   ]
  },
  {
   "cell_type": "code",
   "execution_count": 9,
   "metadata": {},
   "outputs": [
    {
     "name": "stdout",
     "output_type": "stream",
     "text": [
      "['Python es un lenguaje de programación muy popular']\n",
      "El número de veces que la letra 'y' aparece en la cadena es: 2\n"
     ]
    }
   ],
   "source": [
    "cadena =[\"Python es un lenguaje de programación muy popular\"]\n",
    "print(cadena)\n",
    "letra_buscada = input(\"¿Qué letra estamos buscando en la cadena? \")\n",
    "numero_de_letras = cadena[0].count(letra_buscada)\n",
    "print(f\"El número de veces que la letra '{letra_buscada}' aparece en la cadena es: {numero_de_letras}\")"
   ]
  },
  {
   "cell_type": "markdown",
   "metadata": {},
   "source": [
    "Escribe un programa que tome la siguiente cadena de texto y reemplace una palabra específica por otra palabra. La palabra a reemplazar y reemplazada deben ser elegidas por el usuario.\n",
    "cadena = \"Python es genial. Python es fácil de aprender.\""
   ]
  },
  {
   "cell_type": "code",
   "execution_count": 11,
   "metadata": {},
   "outputs": [
    {
     "name": "stdout",
     "output_type": "stream",
     "text": [
      "La nueva cadena de texto es: Python es un rollo. Python es fácil de aprender.\n"
     ]
    }
   ],
   "source": [
    "cadena2 = \"Python es genial. Python es fácil de aprender.\"\n",
    "\n",
    "palabra_a_reemplazar = input(\"Ingresa la palabra que deseas reemplazar en la cadena: \")\n",
    "palabra_de_reemplazo = input(\"Ingresa la palabra de reemplazo: \")\n",
    "\n",
    "nueva_cadena = cadena2.replace(palabra_a_reemplazar, palabra_de_reemplazo)\n",
    "\n",
    "print(f\"La nueva cadena de texto es: {nueva_cadena}\")"
   ]
  },
  {
   "cell_type": "markdown",
   "metadata": {},
   "source": [
    "Toma la siguiente oración y divídela en una lista de palabras. Luego, únelas nuevamente en una sola cadena de texto.\n",
    "oracion = \"Esto es una oración de ejemplo\""
   ]
  },
  {
   "cell_type": "code",
   "execution_count": 12,
   "metadata": {},
   "outputs": [
    {
     "name": "stdout",
     "output_type": "stream",
     "text": [
      "Lista de palabras: ['12', 'de', 'octubre', 'nada', 'que', 'celebrar']\n",
      "Nueva oración: 12 de octubre nada que celebrar\n"
     ]
    }
   ],
   "source": [
    "oracion = \"12 de octubre nada que celebrar\"\n",
    "\n",
    "lista_palabras = oracion.split()\n",
    "\n",
    "nueva_oracion = \" \".join(lista_palabras)\n",
    "\n",
    "print(\"Lista de palabras:\", lista_palabras)\n",
    "print(\"Nueva oración:\", nueva_oracion)"
   ]
  },
  {
   "cell_type": "markdown",
   "metadata": {},
   "source": [
    "Desarrolla un programa que cuente cuántas palabras hay en la siguiente frase.\n",
    "cadena = \"Esta es una cadena con cinco palabras\""
   ]
  },
  {
   "cell_type": "code",
   "execution_count": 16,
   "metadata": {},
   "outputs": [
    {
     "name": "stdout",
     "output_type": "stream",
     "text": [
      "El número de palabras en la cadena es: 6\n"
     ]
    }
   ],
   "source": [
    "cadena3 = \"from the river to the sea\"\n",
    "\n",
    "lista_palabras = cadena3.split()\n",
    "\n",
    "numero_palabras = len(lista_palabras)\n",
    "\n",
    "print(f\"El número de palabras en la cadena es: {numero_palabras}\")"
   ]
  },
  {
   "cell_type": "markdown",
   "metadata": {},
   "source": [
    "Escribe un programa que invierta una cadena de texto dada por un usuario. Mira el siguiente ejemplo para entender lo que se pide:\n",
    " # input \n",
    " \"Hola buenos dias\"\n",
    "\n",
    " # output\n",
    " \"dias buenos Hola"
   ]
  },
  {
   "cell_type": "code",
   "execution_count": 19,
   "metadata": {},
   "outputs": [
    {
     "name": "stdout",
     "output_type": "stream",
     "text": [
      "La cadena con las palabras invertidas es: corta muy es vida la\n"
     ]
    }
   ],
   "source": [
    "cadena5 = input(\"Por favor, introduce una cadena de texto: \")\n",
    "\n",
    "palabras = cadena5.split()\n",
    "\n",
    "palabras_invertidas = palabras[::-1]\n",
    "\n",
    "cadena_invertida = \" \".join(palabras_invertidas)\n",
    "\n",
    "print(\"La cadena con las palabras invertidas es:\", cadena_invertida)"
   ]
  },
  {
   "cell_type": "markdown",
   "metadata": {},
   "source": [
    "Crea un programa que busque una palabra específica(elegida por la usuaria) en una cadena de texto e indique su posición."
   ]
  },
  {
   "cell_type": "code",
   "execution_count": 22,
   "metadata": {},
   "outputs": [
    {
     "name": "stdout",
     "output_type": "stream",
     "text": [
      "volvere y sere millones\n",
      "La palabra 'volvere' se encuentra en la posición: 0\n"
     ]
    }
   ],
   "source": [
    "cadena6 = input(\"Introduce una cadena de texto: \")\n",
    "print(cadena6)\n",
    "\n",
    "palabra_buscada = input(\"Introduce la palabra que deseas buscar en la cadena: \")\n",
    "\n",
    "posicion = cadena6.find(palabra_buscada)\n",
    "\n",
    "if posicion != -1:\n",
    "    print(f\"La palabra '{palabra_buscada}' se encuentra en la posición: {posicion}\")\n",
    "else:\n",
    "    print(f\"La palabra '{palabra_buscada}' no se encontró en la cadena.\")"
   ]
  },
  {
   "cell_type": "markdown",
   "metadata": {},
   "source": [
    "Parte 2: Listas\n",
    "Dada la siguiente lista: frutas = ['manzana', 'pera', 'banana', 'uva', 'kiwi'], realiza lo siguiente:\n",
    "a) Reemplaza el segundo elemento con 'durazno'.\n",
    "b) Agrega 'naranja' al final de la lista.\n",
    "c) Extrae y muestra por pantalla el tercer elemento de la lista."
   ]
  },
  {
   "cell_type": "code",
   "execution_count": 28,
   "metadata": {},
   "outputs": [
    {
     "name": "stdout",
     "output_type": "stream",
     "text": [
      "['manzana', 'durazno', 'banana', 'uva', 'kiwi', 'naranja']\n",
      "el tercer elemento de las frutas es banana\n"
     ]
    }
   ],
   "source": [
    "frutas = ['manzana', 'pera', 'banana', 'uva', 'kiwi']\n",
    "\n",
    "frutas[1] = 'durazno'\n",
    "\n",
    "frutas.append('naranja')\n",
    "\n",
    "print(frutas)\n",
    "\n",
    "tercer_elemento = frutas[2]\n",
    "print(\"el tercer elemento de las frutas es\", tercer_elemento)\n",
    "\n"
   ]
  },
  {
   "cell_type": "markdown",
   "metadata": {},
   "source": [
    "Crea una lista llamada numeros que contenga los siguientes valores: 10, 25, 15, 30, 20."
   ]
  },
  {
   "cell_type": "code",
   "execution_count": 30,
   "metadata": {},
   "outputs": [
    {
     "name": "stdout",
     "output_type": "stream",
     "text": [
      "[10, 25, 15, 30, 20]\n"
     ]
    }
   ],
   "source": [
    "numeros = [10, 25, 15, 30, 20]\n",
    "print(numeros)"
   ]
  },
  {
   "cell_type": "markdown",
   "metadata": {},
   "source": [
    "Agrega el valor 35 al incio de la lista numeros."
   ]
  },
  {
   "cell_type": "code",
   "execution_count": 31,
   "metadata": {},
   "outputs": [
    {
     "name": "stdout",
     "output_type": "stream",
     "text": [
      "[35, 10, 25, 15, 30, 20]\n"
     ]
    }
   ],
   "source": [
    "numeros.insert(0, 35)\n",
    "print(numeros)\n"
   ]
  },
  {
   "cell_type": "markdown",
   "metadata": {},
   "source": [
    "\n",
    "Ordena la lista numeros en orden ascendente."
   ]
  },
  {
   "cell_type": "code",
   "execution_count": 32,
   "metadata": {},
   "outputs": [
    {
     "name": "stdout",
     "output_type": "stream",
     "text": [
      "[10, 15, 20, 25, 30, 35]\n"
     ]
    }
   ],
   "source": [
    "numeros.sort()\n",
    "\n",
    "print(numeros)\n"
   ]
  },
  {
   "cell_type": "markdown",
   "metadata": {},
   "source": [
    "Dada la siguiente lista numeros2 = [45, 22, 19, 38, 29]. Crea una nueva lista llamada numeros3 donde tengamos la unión de los todos los elementos de las dos listas (numeros y numeros2) de tal forma que el resultado final sea:"
   ]
  },
  {
   "cell_type": "code",
   "execution_count": 51,
   "metadata": {},
   "outputs": [
    {
     "name": "stdout",
     "output_type": "stream",
     "text": [
      "[[10, 15, 20, 25, 30, 35, 45, 22, 19, 38, 29]]\n"
     ]
    }
   ],
   "source": [
    "numeros2 = [45, 22, 19, 38, 29]\n",
    "numeros3 = [numeros + numeros2]\n",
    "print(numeros3)"
   ]
  },
  {
   "cell_type": "markdown",
   "metadata": {},
   "source": [
    "Elimina el último elemento de la lista numeros3"
   ]
  },
  {
   "cell_type": "code",
   "execution_count": 58,
   "metadata": {},
   "outputs": [
    {
     "name": "stdout",
     "output_type": "stream",
     "text": [
      "[10, 15, 20, 25, 30, 35, 45, 22, 19, 38]\n"
     ]
    }
   ],
   "source": [
    "numeros4 = [10, 15, 20, 25, 30, 35, 45, 22, 19, 38, 29]\n",
    "numeros4 = numeros4[:-1]\n",
    "\n",
    "print(numeros4)"
   ]
  },
  {
   "cell_type": "markdown",
   "metadata": {},
   "source": [
    "Elimina el número 30 de la lista numeros4."
   ]
  },
  {
   "cell_type": "code",
   "execution_count": 62,
   "metadata": {},
   "outputs": [
    {
     "name": "stdout",
     "output_type": "stream",
     "text": [
      "[10, 15, 20, 25, 35, 45, 22, 19, 38, 29]\n"
     ]
    }
   ],
   "source": [
    "numeros4 = [10, 15, 20, 25, 30, 35, 45, 22, 19, 38, 29]\n",
    "numeros4.remove(30)\n",
    "\n",
    "print(numeros4)"
   ]
  },
  {
   "cell_type": "markdown",
   "metadata": {},
   "source": [
    "Parte 3: Tuplas\n",
    "Crea una tupla llamada colores que contenga los siguientes valores: 'rojo', 'verde', 'azul', 'amarillo', 'morado'."
   ]
  },
  {
   "cell_type": "code",
   "execution_count": 8,
   "metadata": {},
   "outputs": [
    {
     "name": "stdout",
     "output_type": "stream",
     "text": [
      "('rojo', 'verde', 'azul', 'amarillo', 'morado')\n"
     ]
    }
   ],
   "source": [
    "colores = ('rojo', 'verde', 'azul', 'amarillo', 'morado')\n",
    "\n",
    "print(colores)"
   ]
  },
  {
   "cell_type": "markdown",
   "metadata": {},
   "source": [
    "ncuentra el índice de 'verde' en la tupla colores."
   ]
  },
  {
   "cell_type": "code",
   "execution_count": 9,
   "metadata": {},
   "outputs": [
    {
     "name": "stdout",
     "output_type": "stream",
     "text": [
      "El índice de verde es: 1\n"
     ]
    }
   ],
   "source": [
    "indice_verde = colores.index(\"verde\")\n",
    "\n",
    "print(f\"El índice de verde es: {indice_verde}\")"
   ]
  },
  {
   "cell_type": "markdown",
   "metadata": {},
   "source": [
    "¿Cuántas veces aparece 'azul' en la tupla colores?"
   ]
  },
  {
   "cell_type": "code",
   "execution_count": 13,
   "metadata": {},
   "outputs": [
    {
     "name": "stdout",
     "output_type": "stream",
     "text": [
      "'azul' aparece 1 veces en colores.\n"
     ]
    }
   ],
   "source": [
    "\n",
    "azul = colores.count('azul')\n",
    "print(f\"'azul' aparece {azul} veces en colores.\")"
   ]
  },
  {
   "cell_type": "markdown",
   "metadata": {},
   "source": [
    "Añade el color \"morado\" a la tupla colores"
   ]
  },
  {
   "cell_type": "code",
   "execution_count": 14,
   "metadata": {},
   "outputs": [
    {
     "name": "stdout",
     "output_type": "stream",
     "text": [
      "('rojo', 'verde', 'azul', 'amarillo', 'morado', 'morado')\n"
     ]
    }
   ],
   "source": [
    "colores_nueva = colores + ('morado',)\n",
    "\n",
    "print(colores_nueva)"
   ]
  },
  {
   "cell_type": "markdown",
   "metadata": {},
   "source": [
    "Parte 4: Diccionarios\n",
    "Crea un diccionario llamado frutas con las siguientes parejas clave-valor:\n",
    "'manzana': 2\n",
    "'banana': 3\n",
    "'uva': 5\n",
    "'pera': 4"
   ]
  },
  {
   "cell_type": "code",
   "execution_count": 15,
   "metadata": {},
   "outputs": [
    {
     "name": "stdout",
     "output_type": "stream",
     "text": [
      "{'manzana': 2, 'banana': 3, 'uva': 5, 'pera': 4}\n"
     ]
    }
   ],
   "source": [
    "frutas = {\"manzana\": 2,\"banana\": 3,\"uva\": 5,\"pera\": 4}\n",
    "\n",
    "print(frutas)"
   ]
  },
  {
   "cell_type": "code",
   "execution_count": null,
   "metadata": {},
   "outputs": [],
   "source": []
  }
 ],
 "metadata": {
  "kernelspec": {
   "display_name": "base",
   "language": "python",
   "name": "python3"
  },
  "language_info": {
   "codemirror_mode": {
    "name": "ipython",
    "version": 3
   },
   "file_extension": ".py",
   "mimetype": "text/x-python",
   "name": "python",
   "nbconvert_exporter": "python",
   "pygments_lexer": "ipython3",
   "version": "3.9.7"
  }
 },
 "nbformat": 4,
 "nbformat_minor": 2
}
